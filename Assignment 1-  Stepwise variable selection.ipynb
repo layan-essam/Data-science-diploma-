{
 "cells": [
  {
   "cell_type": "markdown",
   "id": "e8dee17b-2cb7-4c48-946c-a857b7e54cf5",
   "metadata": {},
   "source": [
    "## Stepwise Variable Selection Of Diabetes Data\n",
    "#####  by: Layan Essam"
   ]
  },
  {
   "cell_type": "markdown",
   "id": "f47b9929-c712-4702-aa92-4c7c5c441c1c",
   "metadata": {},
   "source": [
    "## Diabetes Dataset\n",
    "The dataset was obtained from the original publication by Bradley Efron, Trevor Hastie, Iain Johnstone, and Robert Tibshirani (2004) \"Least Angle Regression,\" Annals of Statistics (with discussion), 407-499.\n",
    "\n",
    "A total of ten baseline variables were collected, including age, sex, body mass index, average blood pressure, and six blood serum measurements, along with a response of interest, a measure of disease progression one year after baseline.\n",
    "\n",
    "In the field of bioinformatics, this type of analysis is called prognostic modeling. These are statistical tools designed to predict whether an individual will experience a particular clinical outcome in the future based on current characteristics. A prognostic model can incorporate one or multiple current characteristics (multivariable).\n"
   ]
  },
  {
   "cell_type": "markdown",
   "id": "118da2bd-76db-404b-836d-75b498924f43",
   "metadata": {},
   "source": [
    "### Exploratory Data Analysis"
   ]
  },
  {
   "cell_type": "code",
   "execution_count": 11,
   "id": "0898d192-7cdb-463c-9efc-ac59d2ba7ed3",
   "metadata": {
    "scrolled": true
   },
   "outputs": [
    {
     "data": {
      "text/html": [
       "<table class=\"dataframe\">\n",
       "<caption>A data.frame: 6 × 11</caption>\n",
       "<thead>\n",
       "\t<tr><th></th><th scope=col>AGE</th><th scope=col>SEX</th><th scope=col>BMI</th><th scope=col>BP</th><th scope=col>S1</th><th scope=col>S2</th><th scope=col>S3</th><th scope=col>S4</th><th scope=col>S5</th><th scope=col>S6</th><th scope=col>Y</th></tr>\n",
       "\t<tr><th></th><th scope=col>&lt;int&gt;</th><th scope=col>&lt;int&gt;</th><th scope=col>&lt;dbl&gt;</th><th scope=col>&lt;dbl&gt;</th><th scope=col>&lt;int&gt;</th><th scope=col>&lt;dbl&gt;</th><th scope=col>&lt;dbl&gt;</th><th scope=col>&lt;dbl&gt;</th><th scope=col>&lt;dbl&gt;</th><th scope=col>&lt;int&gt;</th><th scope=col>&lt;int&gt;</th></tr>\n",
       "</thead>\n",
       "<tbody>\n",
       "\t<tr><th scope=row>1</th><td>59</td><td>2</td><td>32.1</td><td>101</td><td>157</td><td> 93.2</td><td>38</td><td>4</td><td>4.8598</td><td>87</td><td>151</td></tr>\n",
       "\t<tr><th scope=row>2</th><td>48</td><td>1</td><td>21.6</td><td> 87</td><td>183</td><td>103.2</td><td>70</td><td>3</td><td>3.8918</td><td>69</td><td> 75</td></tr>\n",
       "\t<tr><th scope=row>3</th><td>72</td><td>2</td><td>30.5</td><td> 93</td><td>156</td><td> 93.6</td><td>41</td><td>4</td><td>4.6728</td><td>85</td><td>141</td></tr>\n",
       "\t<tr><th scope=row>4</th><td>24</td><td>1</td><td>25.3</td><td> 84</td><td>198</td><td>131.4</td><td>40</td><td>5</td><td>4.8903</td><td>89</td><td>206</td></tr>\n",
       "\t<tr><th scope=row>5</th><td>50</td><td>1</td><td>23.0</td><td>101</td><td>192</td><td>125.4</td><td>52</td><td>4</td><td>4.2905</td><td>80</td><td>135</td></tr>\n",
       "\t<tr><th scope=row>6</th><td>23</td><td>1</td><td>22.6</td><td> 89</td><td>139</td><td> 64.8</td><td>61</td><td>2</td><td>4.1897</td><td>68</td><td> 97</td></tr>\n",
       "</tbody>\n",
       "</table>\n"
      ],
      "text/latex": [
       "A data.frame: 6 × 11\n",
       "\\begin{tabular}{r|lllllllllll}\n",
       "  & AGE & SEX & BMI & BP & S1 & S2 & S3 & S4 & S5 & S6 & Y\\\\\n",
       "  & <int> & <int> & <dbl> & <dbl> & <int> & <dbl> & <dbl> & <dbl> & <dbl> & <int> & <int>\\\\\n",
       "\\hline\n",
       "\t1 & 59 & 2 & 32.1 & 101 & 157 &  93.2 & 38 & 4 & 4.8598 & 87 & 151\\\\\n",
       "\t2 & 48 & 1 & 21.6 &  87 & 183 & 103.2 & 70 & 3 & 3.8918 & 69 &  75\\\\\n",
       "\t3 & 72 & 2 & 30.5 &  93 & 156 &  93.6 & 41 & 4 & 4.6728 & 85 & 141\\\\\n",
       "\t4 & 24 & 1 & 25.3 &  84 & 198 & 131.4 & 40 & 5 & 4.8903 & 89 & 206\\\\\n",
       "\t5 & 50 & 1 & 23.0 & 101 & 192 & 125.4 & 52 & 4 & 4.2905 & 80 & 135\\\\\n",
       "\t6 & 23 & 1 & 22.6 &  89 & 139 &  64.8 & 61 & 2 & 4.1897 & 68 &  97\\\\\n",
       "\\end{tabular}\n"
      ],
      "text/markdown": [
       "\n",
       "A data.frame: 6 × 11\n",
       "\n",
       "| <!--/--> | AGE &lt;int&gt; | SEX &lt;int&gt; | BMI &lt;dbl&gt; | BP &lt;dbl&gt; | S1 &lt;int&gt; | S2 &lt;dbl&gt; | S3 &lt;dbl&gt; | S4 &lt;dbl&gt; | S5 &lt;dbl&gt; | S6 &lt;int&gt; | Y &lt;int&gt; |\n",
       "|---|---|---|---|---|---|---|---|---|---|---|---|\n",
       "| 1 | 59 | 2 | 32.1 | 101 | 157 |  93.2 | 38 | 4 | 4.8598 | 87 | 151 |\n",
       "| 2 | 48 | 1 | 21.6 |  87 | 183 | 103.2 | 70 | 3 | 3.8918 | 69 |  75 |\n",
       "| 3 | 72 | 2 | 30.5 |  93 | 156 |  93.6 | 41 | 4 | 4.6728 | 85 | 141 |\n",
       "| 4 | 24 | 1 | 25.3 |  84 | 198 | 131.4 | 40 | 5 | 4.8903 | 89 | 206 |\n",
       "| 5 | 50 | 1 | 23.0 | 101 | 192 | 125.4 | 52 | 4 | 4.2905 | 80 | 135 |\n",
       "| 6 | 23 | 1 | 22.6 |  89 | 139 |  64.8 | 61 | 2 | 4.1897 | 68 |  97 |\n",
       "\n"
      ],
      "text/plain": [
       "  AGE SEX BMI  BP  S1  S2    S3 S4 S5     S6 Y  \n",
       "1 59  2   32.1 101 157  93.2 38 4  4.8598 87 151\n",
       "2 48  1   21.6  87 183 103.2 70 3  3.8918 69  75\n",
       "3 72  2   30.5  93 156  93.6 41 4  4.6728 85 141\n",
       "4 24  1   25.3  84 198 131.4 40 5  4.8903 89 206\n",
       "5 50  1   23.0 101 192 125.4 52 4  4.2905 80 135\n",
       "6 23  1   22.6  89 139  64.8 61 2  4.1897 68  97"
      ]
     },
     "metadata": {},
     "output_type": "display_data"
    }
   ],
   "source": [
    "diabetes <- read.csv(\"diabetes.csv\")\n",
    "head(diabetes)"
   ]
  },
  {
   "cell_type": "code",
   "execution_count": 12,
   "id": "9dae7b48-37df-4818-b307-d62b0ab2210d",
   "metadata": {},
   "outputs": [
    {
     "name": "stdout",
     "output_type": "stream",
     "text": [
      "'data.frame':\t442 obs. of  11 variables:\n",
      " $ AGE: int  59 48 72 24 50 23 36 66 60 29 ...\n",
      " $ SEX: int  2 1 2 1 1 1 2 2 2 1 ...\n",
      " $ BMI: num  32.1 21.6 30.5 25.3 23 22.6 22 26.2 32.1 30 ...\n",
      " $ BP : num  101 87 93 84 101 89 90 114 83 85 ...\n",
      " $ S1 : int  157 183 156 198 192 139 160 255 179 180 ...\n",
      " $ S2 : num  93.2 103.2 93.6 131.4 125.4 ...\n",
      " $ S3 : num  38 70 41 40 52 61 50 56 42 43 ...\n",
      " $ S4 : num  4 3 4 5 4 2 3 4.55 4 4 ...\n",
      " $ S5 : num  4.86 3.89 4.67 4.89 4.29 ...\n",
      " $ S6 : int  87 69 85 89 80 68 82 92 94 88 ...\n",
      " $ Y  : int  151 75 141 206 135 97 138 63 110 310 ...\n"
     ]
    }
   ],
   "source": [
    "str(diabetes) # structure of the dataset"
   ]
  },
  {
   "cell_type": "code",
   "execution_count": 19,
   "id": "6e82d55e-21cd-4b2f-90b6-021ac4ba845b",
   "metadata": {},
   "outputs": [
    {
     "data": {
      "text/html": [
       "<table class=\"dataframe\">\n",
       "<caption>A matrix: 11 × 11 of type dbl</caption>\n",
       "<thead>\n",
       "\t<tr><th></th><th scope=col>AGE</th><th scope=col>SEX</th><th scope=col>BMI</th><th scope=col>BP</th><th scope=col>S1</th><th scope=col>S2</th><th scope=col>S3</th><th scope=col>S4</th><th scope=col>S5</th><th scope=col>S6</th><th scope=col>Y</th></tr>\n",
       "</thead>\n",
       "<tbody>\n",
       "\t<tr><th scope=row>AGE</th><td> 1.00</td><td> 0.17</td><td> 0.19</td><td> 0.34</td><td>0.26</td><td> 0.22</td><td>-0.08</td><td> 0.20</td><td> 0.27</td><td> 0.30</td><td> 0.19</td></tr>\n",
       "\t<tr><th scope=row>SEX</th><td> 0.17</td><td> 1.00</td><td> 0.09</td><td> 0.24</td><td>0.04</td><td> 0.14</td><td>-0.38</td><td> 0.33</td><td> 0.15</td><td> 0.21</td><td> 0.04</td></tr>\n",
       "\t<tr><th scope=row>BMI</th><td> 0.19</td><td> 0.09</td><td> 1.00</td><td> 0.40</td><td>0.25</td><td> 0.26</td><td>-0.37</td><td> 0.41</td><td> 0.45</td><td> 0.39</td><td> 0.59</td></tr>\n",
       "\t<tr><th scope=row>BP</th><td> 0.34</td><td> 0.24</td><td> 0.40</td><td> 1.00</td><td>0.24</td><td> 0.19</td><td>-0.18</td><td> 0.26</td><td> 0.39</td><td> 0.39</td><td> 0.44</td></tr>\n",
       "\t<tr><th scope=row>S1</th><td> 0.26</td><td> 0.04</td><td> 0.25</td><td> 0.24</td><td>1.00</td><td> 0.90</td><td> 0.05</td><td> 0.54</td><td> 0.52</td><td> 0.33</td><td> 0.21</td></tr>\n",
       "\t<tr><th scope=row>S2</th><td> 0.22</td><td> 0.14</td><td> 0.26</td><td> 0.19</td><td>0.90</td><td> 1.00</td><td>-0.20</td><td> 0.66</td><td> 0.32</td><td> 0.29</td><td> 0.17</td></tr>\n",
       "\t<tr><th scope=row>S3</th><td>-0.08</td><td>-0.38</td><td>-0.37</td><td>-0.18</td><td>0.05</td><td>-0.20</td><td> 1.00</td><td>-0.74</td><td>-0.40</td><td>-0.27</td><td>-0.39</td></tr>\n",
       "\t<tr><th scope=row>S4</th><td> 0.20</td><td> 0.33</td><td> 0.41</td><td> 0.26</td><td>0.54</td><td> 0.66</td><td>-0.74</td><td> 1.00</td><td> 0.62</td><td> 0.42</td><td> 0.43</td></tr>\n",
       "\t<tr><th scope=row>S5</th><td> 0.27</td><td> 0.15</td><td> 0.45</td><td> 0.39</td><td>0.52</td><td> 0.32</td><td>-0.40</td><td> 0.62</td><td> 1.00</td><td> 0.46</td><td> 0.57</td></tr>\n",
       "\t<tr><th scope=row>S6</th><td> 0.30</td><td> 0.21</td><td> 0.39</td><td> 0.39</td><td>0.33</td><td> 0.29</td><td>-0.27</td><td> 0.42</td><td> 0.46</td><td> 1.00</td><td> 0.38</td></tr>\n",
       "\t<tr><th scope=row>Y</th><td> 0.19</td><td> 0.04</td><td> 0.59</td><td> 0.44</td><td>0.21</td><td> 0.17</td><td>-0.39</td><td> 0.43</td><td> 0.57</td><td> 0.38</td><td> 1.00</td></tr>\n",
       "</tbody>\n",
       "</table>\n"
      ],
      "text/latex": [
       "A matrix: 11 × 11 of type dbl\n",
       "\\begin{tabular}{r|lllllllllll}\n",
       "  & AGE & SEX & BMI & BP & S1 & S2 & S3 & S4 & S5 & S6 & Y\\\\\n",
       "\\hline\n",
       "\tAGE &  1.00 &  0.17 &  0.19 &  0.34 & 0.26 &  0.22 & -0.08 &  0.20 &  0.27 &  0.30 &  0.19\\\\\n",
       "\tSEX &  0.17 &  1.00 &  0.09 &  0.24 & 0.04 &  0.14 & -0.38 &  0.33 &  0.15 &  0.21 &  0.04\\\\\n",
       "\tBMI &  0.19 &  0.09 &  1.00 &  0.40 & 0.25 &  0.26 & -0.37 &  0.41 &  0.45 &  0.39 &  0.59\\\\\n",
       "\tBP &  0.34 &  0.24 &  0.40 &  1.00 & 0.24 &  0.19 & -0.18 &  0.26 &  0.39 &  0.39 &  0.44\\\\\n",
       "\tS1 &  0.26 &  0.04 &  0.25 &  0.24 & 1.00 &  0.90 &  0.05 &  0.54 &  0.52 &  0.33 &  0.21\\\\\n",
       "\tS2 &  0.22 &  0.14 &  0.26 &  0.19 & 0.90 &  1.00 & -0.20 &  0.66 &  0.32 &  0.29 &  0.17\\\\\n",
       "\tS3 & -0.08 & -0.38 & -0.37 & -0.18 & 0.05 & -0.20 &  1.00 & -0.74 & -0.40 & -0.27 & -0.39\\\\\n",
       "\tS4 &  0.20 &  0.33 &  0.41 &  0.26 & 0.54 &  0.66 & -0.74 &  1.00 &  0.62 &  0.42 &  0.43\\\\\n",
       "\tS5 &  0.27 &  0.15 &  0.45 &  0.39 & 0.52 &  0.32 & -0.40 &  0.62 &  1.00 &  0.46 &  0.57\\\\\n",
       "\tS6 &  0.30 &  0.21 &  0.39 &  0.39 & 0.33 &  0.29 & -0.27 &  0.42 &  0.46 &  1.00 &  0.38\\\\\n",
       "\tY &  0.19 &  0.04 &  0.59 &  0.44 & 0.21 &  0.17 & -0.39 &  0.43 &  0.57 &  0.38 &  1.00\\\\\n",
       "\\end{tabular}\n"
      ],
      "text/markdown": [
       "\n",
       "A matrix: 11 × 11 of type dbl\n",
       "\n",
       "| <!--/--> | AGE | SEX | BMI | BP | S1 | S2 | S3 | S4 | S5 | S6 | Y |\n",
       "|---|---|---|---|---|---|---|---|---|---|---|---|\n",
       "| AGE |  1.00 |  0.17 |  0.19 |  0.34 | 0.26 |  0.22 | -0.08 |  0.20 |  0.27 |  0.30 |  0.19 |\n",
       "| SEX |  0.17 |  1.00 |  0.09 |  0.24 | 0.04 |  0.14 | -0.38 |  0.33 |  0.15 |  0.21 |  0.04 |\n",
       "| BMI |  0.19 |  0.09 |  1.00 |  0.40 | 0.25 |  0.26 | -0.37 |  0.41 |  0.45 |  0.39 |  0.59 |\n",
       "| BP |  0.34 |  0.24 |  0.40 |  1.00 | 0.24 |  0.19 | -0.18 |  0.26 |  0.39 |  0.39 |  0.44 |\n",
       "| S1 |  0.26 |  0.04 |  0.25 |  0.24 | 1.00 |  0.90 |  0.05 |  0.54 |  0.52 |  0.33 |  0.21 |\n",
       "| S2 |  0.22 |  0.14 |  0.26 |  0.19 | 0.90 |  1.00 | -0.20 |  0.66 |  0.32 |  0.29 |  0.17 |\n",
       "| S3 | -0.08 | -0.38 | -0.37 | -0.18 | 0.05 | -0.20 |  1.00 | -0.74 | -0.40 | -0.27 | -0.39 |\n",
       "| S4 |  0.20 |  0.33 |  0.41 |  0.26 | 0.54 |  0.66 | -0.74 |  1.00 |  0.62 |  0.42 |  0.43 |\n",
       "| S5 |  0.27 |  0.15 |  0.45 |  0.39 | 0.52 |  0.32 | -0.40 |  0.62 |  1.00 |  0.46 |  0.57 |\n",
       "| S6 |  0.30 |  0.21 |  0.39 |  0.39 | 0.33 |  0.29 | -0.27 |  0.42 |  0.46 |  1.00 |  0.38 |\n",
       "| Y |  0.19 |  0.04 |  0.59 |  0.44 | 0.21 |  0.17 | -0.39 |  0.43 |  0.57 |  0.38 |  1.00 |\n",
       "\n"
      ],
      "text/plain": [
       "    AGE   SEX   BMI   BP    S1   S2    S3    S4    S5    S6    Y    \n",
       "AGE  1.00  0.17  0.19  0.34 0.26  0.22 -0.08  0.20  0.27  0.30  0.19\n",
       "SEX  0.17  1.00  0.09  0.24 0.04  0.14 -0.38  0.33  0.15  0.21  0.04\n",
       "BMI  0.19  0.09  1.00  0.40 0.25  0.26 -0.37  0.41  0.45  0.39  0.59\n",
       "BP   0.34  0.24  0.40  1.00 0.24  0.19 -0.18  0.26  0.39  0.39  0.44\n",
       "S1   0.26  0.04  0.25  0.24 1.00  0.90  0.05  0.54  0.52  0.33  0.21\n",
       "S2   0.22  0.14  0.26  0.19 0.90  1.00 -0.20  0.66  0.32  0.29  0.17\n",
       "S3  -0.08 -0.38 -0.37 -0.18 0.05 -0.20  1.00 -0.74 -0.40 -0.27 -0.39\n",
       "S4   0.20  0.33  0.41  0.26 0.54  0.66 -0.74  1.00  0.62  0.42  0.43\n",
       "S5   0.27  0.15  0.45  0.39 0.52  0.32 -0.40  0.62  1.00  0.46  0.57\n",
       "S6   0.30  0.21  0.39  0.39 0.33  0.29 -0.27  0.42  0.46  1.00  0.38\n",
       "Y    0.19  0.04  0.59  0.44 0.21  0.17 -0.39  0.43  0.57  0.38  1.00"
      ]
     },
     "metadata": {},
     "output_type": "display_data"
    }
   ],
   "source": [
    "round(cor(diabetes),2)"
   ]
  },
  {
   "cell_type": "markdown",
   "id": "ebc8dc4b-6e6d-4578-a0fd-fce8ac330fcd",
   "metadata": {},
   "source": [
    "##### <span style=\"color:green\"> The table above shows some clear patterns: Strong positive correlation between s1 and s2 - Negative correlation between s3 and other variables, including the response variable. </span>"
   ]
  },
  {
   "cell_type": "markdown",
   "id": "1e702989-be52-4a58-9333-3788d4a6ce07",
   "metadata": {},
   "source": [
    "### Stepwise variable selection"
   ]
  },
  {
   "cell_type": "code",
   "execution_count": 21,
   "id": "af2555af-d336-4c11-a6af-32d57aa6437e",
   "metadata": {},
   "outputs": [],
   "source": [
    "# load required libraries \n",
    "library(MASS)"
   ]
  },
  {
   "cell_type": "code",
   "execution_count": 22,
   "id": "875ff7b1-e36b-42c0-a175-e7039a55f913",
   "metadata": {},
   "outputs": [
    {
     "data": {
      "text/plain": [
       "\n",
       "Call:\n",
       "lm(formula = Y ~ ., data = diabetes)\n",
       "\n",
       "Residuals:\n",
       "     Min       1Q   Median       3Q      Max \n",
       "-155.827  -38.536   -0.228   37.806  151.353 \n",
       "\n",
       "Coefficients:\n",
       "              Estimate Std. Error t value Pr(>|t|)    \n",
       "(Intercept) -334.56714   67.45462  -4.960 1.02e-06 ***\n",
       "AGE           -0.03636    0.21704  -0.168 0.867031    \n",
       "SEX          -22.85965    5.83582  -3.917 0.000104 ***\n",
       "BMI            5.60296    0.71711   7.813 4.30e-14 ***\n",
       "BP             1.11681    0.22524   4.958 1.02e-06 ***\n",
       "S1            -1.09000    0.57333  -1.901 0.057948 .  \n",
       "S2             0.74645    0.53083   1.406 0.160390    \n",
       "S3             0.37200    0.78246   0.475 0.634723    \n",
       "S4             6.53383    5.95864   1.097 0.273459    \n",
       "S5            68.48312   15.66972   4.370 1.56e-05 ***\n",
       "S6             0.28012    0.27331   1.025 0.305990    \n",
       "---\n",
       "Signif. codes:  0 '***' 0.001 '**' 0.01 '*' 0.05 '.' 0.1 ' ' 1\n",
       "\n",
       "Residual standard error: 54.15 on 431 degrees of freedom\n",
       "Multiple R-squared:  0.5177,\tAdjusted R-squared:  0.5066 \n",
       "F-statistic: 46.27 on 10 and 431 DF,  p-value: < 2.2e-16\n"
      ]
     },
     "metadata": {},
     "output_type": "display_data"
    }
   ],
   "source": [
    "fit = lm(Y ~ ., data = diabetes)\n",
    "summary(fit)"
   ]
  },
  {
   "cell_type": "markdown",
   "id": "1d8f3aae-5e2b-403a-a98c-fc1ea8206a46",
   "metadata": {},
   "source": [
    "##### <span style=\"color:green\"> According to the p-values above : SEX,BMI,BP, and S5 are significant variables. </span>"
   ]
  },
  {
   "cell_type": "markdown",
   "id": "e672b652-0b93-494f-bffb-c105b9b3c63d",
   "metadata": {},
   "source": [
    "### Forward case"
   ]
  },
  {
   "cell_type": "code",
   "execution_count": 39,
   "id": "ee26a248-6d6e-4bcc-a3c9-45fa7c059464",
   "metadata": {},
   "outputs": [
    {
     "name": "stdout",
     "output_type": "stream",
     "text": [
      "Start:  AIC=3539.64\n",
      "Y ~ AGE + SEX + BMI + BP + S1 + S2 + S3 + S4 + S5 + S6\n",
      "\n"
     ]
    },
    {
     "data": {
      "text/html": [
       "<table class=\"dataframe\">\n",
       "<caption>A Anova: 1 × 6</caption>\n",
       "<thead>\n",
       "\t<tr><th scope=col>Step</th><th scope=col>Df</th><th scope=col>Deviance</th><th scope=col>Resid. Df</th><th scope=col>Resid. Dev</th><th scope=col>AIC</th></tr>\n",
       "\t<tr><th scope=col>&lt;chr&gt;</th><th scope=col>&lt;dbl&gt;</th><th scope=col>&lt;dbl&gt;</th><th scope=col>&lt;dbl&gt;</th><th scope=col>&lt;dbl&gt;</th><th scope=col>&lt;dbl&gt;</th></tr>\n",
       "</thead>\n",
       "<tbody>\n",
       "\t<tr><td></td><td>NA</td><td>NA</td><td>431</td><td>1263986</td><td>3539.644</td></tr>\n",
       "</tbody>\n",
       "</table>\n"
      ],
      "text/latex": [
       "A Anova: 1 × 6\n",
       "\\begin{tabular}{llllll}\n",
       " Step & Df & Deviance & Resid. Df & Resid. Dev & AIC\\\\\n",
       " <chr> & <dbl> & <dbl> & <dbl> & <dbl> & <dbl>\\\\\n",
       "\\hline\n",
       "\t  & NA & NA & 431 & 1263986 & 3539.644\\\\\n",
       "\\end{tabular}\n"
      ],
      "text/markdown": [
       "\n",
       "A Anova: 1 × 6\n",
       "\n",
       "| Step &lt;chr&gt; | Df &lt;dbl&gt; | Deviance &lt;dbl&gt; | Resid. Df &lt;dbl&gt; | Resid. Dev &lt;dbl&gt; | AIC &lt;dbl&gt; |\n",
       "|---|---|---|---|---|---|\n",
       "| <!----> | NA | NA | 431 | 1263986 | 3539.644 |\n",
       "\n"
      ],
      "text/plain": [
       "  Step Df Deviance Resid. Df Resid. Dev AIC     \n",
       "1      NA NA       431       1263986    3539.644"
      ]
     },
     "metadata": {},
     "output_type": "display_data"
    }
   ],
   "source": [
    "forward <- stepAIC(fit, direction=\"forward\")\n",
    "forward$anova"
   ]
  },
  {
   "cell_type": "markdown",
   "id": "afade5a7-fb84-4e01-9590-0057e4c3543d",
   "metadata": {},
   "source": [
    "##### <span style=\"color:green\"> The forward direction does not eliminate any variable.</span>"
   ]
  },
  {
   "cell_type": "markdown",
   "id": "579dd968-a05a-411d-afba-dc93351b92f4",
   "metadata": {},
   "source": [
    "### Backwards case"
   ]
  },
  {
   "cell_type": "code",
   "execution_count": 42,
   "id": "05495e4b-cfde-4b67-9807-7f5d0cbbb468",
   "metadata": {},
   "outputs": [
    {
     "name": "stdout",
     "output_type": "stream",
     "text": [
      "Start:  AIC=3539.64\n",
      "Y ~ AGE + SEX + BMI + BP + S1 + S2 + S3 + S4 + S5 + S6\n",
      "\n",
      "       Df Sum of Sq     RSS    AIC\n",
      "- AGE   1        82 1264068 3537.7\n",
      "- S3    1       663 1264649 3537.9\n",
      "- S6    1      3080 1267066 3538.7\n",
      "- S4    1      3526 1267512 3538.9\n",
      "<none>              1263986 3539.6\n",
      "- S2    1      5799 1269785 3539.7\n",
      "- S1    1     10600 1274586 3541.3\n",
      "- SEX   1     44999 1308984 3553.1\n",
      "- S5    1     56016 1320001 3556.8\n",
      "- BP    1     72100 1336086 3562.2\n",
      "- BMI   1    179033 1443019 3596.2\n",
      "\n",
      "Step:  AIC=3537.67\n",
      "Y ~ SEX + BMI + BP + S1 + S2 + S3 + S4 + S5 + S6\n",
      "\n",
      "       Df Sum of Sq     RSS    AIC\n",
      "- S3    1       646 1264715 3535.9\n",
      "- S6    1      3001 1267069 3536.7\n",
      "- S4    1      3543 1267611 3536.9\n",
      "<none>              1264068 3537.7\n",
      "- S2    1      5751 1269820 3537.7\n",
      "- S1    1     10569 1274637 3539.4\n",
      "- SEX   1     45830 1309898 3551.4\n",
      "- S5    1     55964 1320032 3554.8\n",
      "- BP    1     73847 1337915 3560.8\n",
      "- BMI   1    179084 1443152 3594.2\n",
      "\n",
      "Step:  AIC=3535.9\n",
      "Y ~ SEX + BMI + BP + S1 + S2 + S4 + S5 + S6\n",
      "\n",
      "       Df Sum of Sq     RSS    AIC\n",
      "- S6    1      3093 1267808 3535.0\n",
      "- S4    1      3247 1267961 3535.0\n",
      "<none>              1264715 3535.9\n",
      "- S2    1      7505 1272219 3536.5\n",
      "- S1    1     26839 1291554 3543.2\n",
      "- SEX   1     46381 1311096 3549.8\n",
      "- BP    1     73533 1338248 3558.9\n",
      "- S5    1     97508 1362223 3566.7\n",
      "- BMI   1    178542 1443256 3592.3\n",
      "\n",
      "Step:  AIC=3534.98\n",
      "Y ~ SEX + BMI + BP + S1 + S2 + S4 + S5\n",
      "\n",
      "       Df Sum of Sq     RSS    AIC\n",
      "- S4    1      3686 1271494 3534.3\n",
      "<none>              1267808 3535.0\n",
      "- S2    1      7472 1275280 3535.6\n",
      "- S1    1     26378 1294186 3542.1\n",
      "- SEX   1     44684 1312492 3548.3\n",
      "- BP    1     82152 1349960 3560.7\n",
      "- S5    1    102520 1370328 3567.3\n",
      "- BMI   1    189976 1457784 3594.7\n",
      "\n",
      "Step:  AIC=3534.26\n",
      "Y ~ SEX + BMI + BP + S1 + S2 + S5\n",
      "\n",
      "       Df Sum of Sq     RSS    AIC\n",
      "<none>              1271494 3534.3\n",
      "- S2    1     39377 1310871 3545.7\n",
      "- SEX   1     41856 1313350 3546.6\n",
      "- S1    1     65236 1336730 3554.4\n",
      "- BP    1     79625 1351119 3559.1\n",
      "- BMI   1    190592 1462086 3594.0\n",
      "- S5    1    294092 1565586 3624.2\n"
     ]
    },
    {
     "data": {
      "text/html": [
       "<table class=\"dataframe\">\n",
       "<caption>A Anova: 5 × 6</caption>\n",
       "<thead>\n",
       "\t<tr><th scope=col>Step</th><th scope=col>Df</th><th scope=col>Deviance</th><th scope=col>Resid. Df</th><th scope=col>Resid. Dev</th><th scope=col>AIC</th></tr>\n",
       "\t<tr><th scope=col>&lt;chr&gt;</th><th scope=col>&lt;dbl&gt;</th><th scope=col>&lt;dbl&gt;</th><th scope=col>&lt;dbl&gt;</th><th scope=col>&lt;dbl&gt;</th><th scope=col>&lt;dbl&gt;</th></tr>\n",
       "</thead>\n",
       "<tbody>\n",
       "\t<tr><td>     </td><td>NA</td><td>        NA</td><td>431</td><td>1263986</td><td>3539.644</td></tr>\n",
       "\t<tr><td>- AGE</td><td> 1</td><td>  82.31076</td><td>432</td><td>1264068</td><td>3537.673</td></tr>\n",
       "\t<tr><td>- S3 </td><td> 1</td><td> 646.48348</td><td>433</td><td>1264715</td><td>3535.899</td></tr>\n",
       "\t<tr><td>- S6 </td><td> 1</td><td>3093.23219</td><td>434</td><td>1267808</td><td>3534.979</td></tr>\n",
       "\t<tr><td>- S4 </td><td> 1</td><td>3686.18523</td><td>435</td><td>1271494</td><td>3534.262</td></tr>\n",
       "</tbody>\n",
       "</table>\n"
      ],
      "text/latex": [
       "A Anova: 5 × 6\n",
       "\\begin{tabular}{llllll}\n",
       " Step & Df & Deviance & Resid. Df & Resid. Dev & AIC\\\\\n",
       " <chr> & <dbl> & <dbl> & <dbl> & <dbl> & <dbl>\\\\\n",
       "\\hline\n",
       "\t       & NA &         NA & 431 & 1263986 & 3539.644\\\\\n",
       "\t - AGE &  1 &   82.31076 & 432 & 1264068 & 3537.673\\\\\n",
       "\t - S3  &  1 &  646.48348 & 433 & 1264715 & 3535.899\\\\\n",
       "\t - S6  &  1 & 3093.23219 & 434 & 1267808 & 3534.979\\\\\n",
       "\t - S4  &  1 & 3686.18523 & 435 & 1271494 & 3534.262\\\\\n",
       "\\end{tabular}\n"
      ],
      "text/markdown": [
       "\n",
       "A Anova: 5 × 6\n",
       "\n",
       "| Step &lt;chr&gt; | Df &lt;dbl&gt; | Deviance &lt;dbl&gt; | Resid. Df &lt;dbl&gt; | Resid. Dev &lt;dbl&gt; | AIC &lt;dbl&gt; |\n",
       "|---|---|---|---|---|---|\n",
       "| <!----> | NA |         NA | 431 | 1263986 | 3539.644 |\n",
       "| - AGE |  1 |   82.31076 | 432 | 1264068 | 3537.673 |\n",
       "| - S3  |  1 |  646.48348 | 433 | 1264715 | 3535.899 |\n",
       "| - S6  |  1 | 3093.23219 | 434 | 1267808 | 3534.979 |\n",
       "| - S4  |  1 | 3686.18523 | 435 | 1271494 | 3534.262 |\n",
       "\n"
      ],
      "text/plain": [
       "  Step  Df Deviance   Resid. Df Resid. Dev AIC     \n",
       "1       NA         NA 431       1263986    3539.644\n",
       "2 - AGE  1   82.31076 432       1264068    3537.673\n",
       "3 - S3   1  646.48348 433       1264715    3535.899\n",
       "4 - S6   1 3093.23219 434       1267808    3534.979\n",
       "5 - S4   1 3686.18523 435       1271494    3534.262"
      ]
     },
     "metadata": {},
     "output_type": "display_data"
    }
   ],
   "source": [
    "backward <- stepAIC(fit, direction=\"backward\")\n",
    "backward$anova"
   ]
  },
  {
   "cell_type": "markdown",
   "id": "537aec51-4858-4505-a028-fd8641842b57",
   "metadata": {},
   "source": [
    "##### <span style=\"color:green\"> In the backward direction, AGE, S3, S4, and S6 were eliminated due to their higher AIC in comparison to the other variables.</span>"
   ]
  },
  {
   "cell_type": "markdown",
   "id": "55fd29a0-ab2a-4a09-9003-e74d5678893b",
   "metadata": {},
   "source": [
    "### Both Directions "
   ]
  },
  {
   "cell_type": "code",
   "execution_count": 43,
   "id": "15c15fe6-79d8-4cf4-926d-bec4dcd7b3b7",
   "metadata": {},
   "outputs": [
    {
     "name": "stdout",
     "output_type": "stream",
     "text": [
      "Start:  AIC=3539.64\n",
      "Y ~ AGE + SEX + BMI + BP + S1 + S2 + S3 + S4 + S5 + S6\n",
      "\n",
      "       Df Sum of Sq     RSS    AIC\n",
      "- AGE   1        82 1264068 3537.7\n",
      "- S3    1       663 1264649 3537.9\n",
      "- S6    1      3080 1267066 3538.7\n",
      "- S4    1      3526 1267512 3538.9\n",
      "<none>              1263986 3539.6\n",
      "- S2    1      5799 1269785 3539.7\n",
      "- S1    1     10600 1274586 3541.3\n",
      "- SEX   1     44999 1308984 3553.1\n",
      "- S5    1     56016 1320001 3556.8\n",
      "- BP    1     72100 1336086 3562.2\n",
      "- BMI   1    179033 1443019 3596.2\n",
      "\n",
      "Step:  AIC=3537.67\n",
      "Y ~ SEX + BMI + BP + S1 + S2 + S3 + S4 + S5 + S6\n",
      "\n",
      "       Df Sum of Sq     RSS    AIC\n",
      "- S3    1       646 1264715 3535.9\n",
      "- S6    1      3001 1267069 3536.7\n",
      "- S4    1      3543 1267611 3536.9\n",
      "<none>              1264068 3537.7\n",
      "- S2    1      5751 1269820 3537.7\n",
      "- S1    1     10569 1274637 3539.4\n",
      "+ AGE   1        82 1263986 3539.6\n",
      "- SEX   1     45830 1309898 3551.4\n",
      "- S5    1     55964 1320032 3554.8\n",
      "- BP    1     73847 1337915 3560.8\n",
      "- BMI   1    179084 1443152 3594.2\n",
      "\n",
      "Step:  AIC=3535.9\n",
      "Y ~ SEX + BMI + BP + S1 + S2 + S4 + S5 + S6\n",
      "\n",
      "       Df Sum of Sq     RSS    AIC\n",
      "- S6    1      3093 1267808 3535.0\n",
      "- S4    1      3247 1267961 3535.0\n",
      "<none>              1264715 3535.9\n",
      "- S2    1      7505 1272219 3536.5\n",
      "+ S3    1       646 1264068 3537.7\n",
      "+ AGE   1        66 1264649 3537.9\n",
      "- S1    1     26839 1291554 3543.2\n",
      "- SEX   1     46381 1311096 3549.8\n",
      "- BP    1     73533 1338248 3558.9\n",
      "- S5    1     97508 1362223 3566.7\n",
      "- BMI   1    178542 1443256 3592.3\n",
      "\n",
      "Step:  AIC=3534.98\n",
      "Y ~ SEX + BMI + BP + S1 + S2 + S4 + S5\n",
      "\n",
      "       Df Sum of Sq     RSS    AIC\n",
      "- S4    1      3686 1271494 3534.3\n",
      "<none>              1267808 3535.0\n",
      "- S2    1      7472 1275280 3535.6\n",
      "+ S6    1      3093 1264715 3535.9\n",
      "+ S3    1       738 1267069 3536.7\n",
      "+ AGE   1         0 1267807 3537.0\n",
      "- S1    1     26378 1294186 3542.1\n",
      "- SEX   1     44684 1312492 3548.3\n",
      "- BP    1     82152 1349960 3560.7\n",
      "- S5    1    102520 1370328 3567.3\n",
      "- BMI   1    189976 1457784 3594.7\n",
      "\n",
      "Step:  AIC=3534.26\n",
      "Y ~ SEX + BMI + BP + S1 + S2 + S5\n",
      "\n",
      "       Df Sum of Sq     RSS    AIC\n",
      "<none>              1271494 3534.3\n",
      "+ S4    1      3686 1267808 3535.0\n",
      "+ S6    1      3533 1267961 3535.0\n",
      "+ S3    1       395 1271099 3536.1\n",
      "+ AGE   1        11 1271483 3536.3\n",
      "- S2    1     39377 1310871 3545.7\n",
      "- SEX   1     41856 1313350 3546.6\n",
      "- S1    1     65236 1336730 3554.4\n",
      "- BP    1     79625 1351119 3559.1\n",
      "- BMI   1    190592 1462086 3594.0\n",
      "- S5    1    294092 1565586 3624.2\n"
     ]
    },
    {
     "data": {
      "text/html": [
       "<table class=\"dataframe\">\n",
       "<caption>A Anova: 5 × 6</caption>\n",
       "<thead>\n",
       "\t<tr><th scope=col>Step</th><th scope=col>Df</th><th scope=col>Deviance</th><th scope=col>Resid. Df</th><th scope=col>Resid. Dev</th><th scope=col>AIC</th></tr>\n",
       "\t<tr><th scope=col>&lt;chr&gt;</th><th scope=col>&lt;dbl&gt;</th><th scope=col>&lt;dbl&gt;</th><th scope=col>&lt;dbl&gt;</th><th scope=col>&lt;dbl&gt;</th><th scope=col>&lt;dbl&gt;</th></tr>\n",
       "</thead>\n",
       "<tbody>\n",
       "\t<tr><td>     </td><td>NA</td><td>        NA</td><td>431</td><td>1263986</td><td>3539.644</td></tr>\n",
       "\t<tr><td>- AGE</td><td> 1</td><td>  82.31076</td><td>432</td><td>1264068</td><td>3537.673</td></tr>\n",
       "\t<tr><td>- S3 </td><td> 1</td><td> 646.48348</td><td>433</td><td>1264715</td><td>3535.899</td></tr>\n",
       "\t<tr><td>- S6 </td><td> 1</td><td>3093.23219</td><td>434</td><td>1267808</td><td>3534.979</td></tr>\n",
       "\t<tr><td>- S4 </td><td> 1</td><td>3686.18523</td><td>435</td><td>1271494</td><td>3534.262</td></tr>\n",
       "</tbody>\n",
       "</table>\n"
      ],
      "text/latex": [
       "A Anova: 5 × 6\n",
       "\\begin{tabular}{llllll}\n",
       " Step & Df & Deviance & Resid. Df & Resid. Dev & AIC\\\\\n",
       " <chr> & <dbl> & <dbl> & <dbl> & <dbl> & <dbl>\\\\\n",
       "\\hline\n",
       "\t       & NA &         NA & 431 & 1263986 & 3539.644\\\\\n",
       "\t - AGE &  1 &   82.31076 & 432 & 1264068 & 3537.673\\\\\n",
       "\t - S3  &  1 &  646.48348 & 433 & 1264715 & 3535.899\\\\\n",
       "\t - S6  &  1 & 3093.23219 & 434 & 1267808 & 3534.979\\\\\n",
       "\t - S4  &  1 & 3686.18523 & 435 & 1271494 & 3534.262\\\\\n",
       "\\end{tabular}\n"
      ],
      "text/markdown": [
       "\n",
       "A Anova: 5 × 6\n",
       "\n",
       "| Step &lt;chr&gt; | Df &lt;dbl&gt; | Deviance &lt;dbl&gt; | Resid. Df &lt;dbl&gt; | Resid. Dev &lt;dbl&gt; | AIC &lt;dbl&gt; |\n",
       "|---|---|---|---|---|---|\n",
       "| <!----> | NA |         NA | 431 | 1263986 | 3539.644 |\n",
       "| - AGE |  1 |   82.31076 | 432 | 1264068 | 3537.673 |\n",
       "| - S3  |  1 |  646.48348 | 433 | 1264715 | 3535.899 |\n",
       "| - S6  |  1 | 3093.23219 | 434 | 1267808 | 3534.979 |\n",
       "| - S4  |  1 | 3686.18523 | 435 | 1271494 | 3534.262 |\n",
       "\n"
      ],
      "text/plain": [
       "  Step  Df Deviance   Resid. Df Resid. Dev AIC     \n",
       "1       NA         NA 431       1263986    3539.644\n",
       "2 - AGE  1   82.31076 432       1264068    3537.673\n",
       "3 - S3   1  646.48348 433       1264715    3535.899\n",
       "4 - S6   1 3093.23219 434       1267808    3534.979\n",
       "5 - S4   1 3686.18523 435       1271494    3534.262"
      ]
     },
     "metadata": {},
     "output_type": "display_data"
    }
   ],
   "source": [
    "both = stepAIC(fit, direction=\"both\")\n",
    "both$anova"
   ]
  },
  {
   "cell_type": "markdown",
   "id": "e40bdeea-b986-48e1-9d22-4f14c93deb3e",
   "metadata": {},
   "source": [
    "##### <span style=\"color:green\"> As with the backward direction, AGE, S3, S4 and S6 were eliminated in both directions. </span>"
   ]
  },
  {
   "cell_type": "code",
   "execution_count": 45,
   "id": "eeff5284-bfa7-4fbe-9a16-7eeb9d3e4ee5",
   "metadata": {},
   "outputs": [
    {
     "data": {
      "text/plain": [
       "\n",
       "Call:\n",
       "lm(formula = Y ~ SEX + BMI + BP + S1 + S2 + S5, data = diabetes)\n",
       "\n",
       "Residuals:\n",
       "     Min       1Q   Median       3Q      Max \n",
       "-158.275  -39.476   -2.065   37.219  148.690 \n",
       "\n",
       "Coefficients:\n",
       "             Estimate Std. Error t value Pr(>|t|)    \n",
       "(Intercept) -313.7666    25.3848 -12.360  < 2e-16 ***\n",
       "SEX          -21.5910     5.7056  -3.784 0.000176 ***\n",
       "BMI            5.7111     0.7073   8.075 6.69e-15 ***\n",
       "BP             1.1266     0.2158   5.219 2.79e-07 ***\n",
       "S1            -1.0429     0.2208  -4.724 3.12e-06 ***\n",
       "S2             0.8433     0.2298   3.670 0.000272 ***\n",
       "S5            73.3065     7.3083  10.031  < 2e-16 ***\n",
       "---\n",
       "Signif. codes:  0 '***' 0.001 '**' 0.01 '*' 0.05 '.' 0.1 ' ' 1\n",
       "\n",
       "Residual standard error: 54.06 on 435 degrees of freedom\n",
       "Multiple R-squared:  0.5149,\tAdjusted R-squared:  0.5082 \n",
       "F-statistic: 76.95 on 6 and 435 DF,  p-value: < 2.2e-16\n"
      ]
     },
     "metadata": {},
     "output_type": "display_data"
    }
   ],
   "source": [
    "summary(both)"
   ]
  },
  {
   "cell_type": "markdown",
   "id": "21fef571-0ace-4537-8915-170e5ca1f32b",
   "metadata": {},
   "source": [
    "#### <span style=\"color:green\"> So the optimal variables selected by stepwise selection is SEX + BMI + BP + S1 + S2 + S5 </span>\r\n"
   ]
  },
  {
   "cell_type": "markdown",
   "id": "8577bef5-1193-4b00-98fa-bdfd4ebc2df6",
   "metadata": {},
   "source": [
    "### Another way to calculate AIC \n"
   ]
  },
  {
   "cell_type": "code",
   "execution_count": 46,
   "id": "c6b15d7c-b6a3-4a1f-a9d1-4391d65b70fa",
   "metadata": {},
   "outputs": [
    {
     "data": {
      "text/html": [
       "4795.98572424704"
      ],
      "text/latex": [
       "4795.98572424704"
      ],
      "text/markdown": [
       "4795.98572424704"
      ],
      "text/plain": [
       "[1] 4795.986"
      ]
     },
     "metadata": {},
     "output_type": "display_data"
    },
    {
     "data": {
      "text/html": [
       "4790.60348462123"
      ],
      "text/latex": [
       "4790.60348462123"
      ],
      "text/markdown": [
       "4790.60348462123"
      ],
      "text/plain": [
       "[1] 4790.603"
      ]
     },
     "metadata": {},
     "output_type": "display_data"
    },
    {
     "data": {
      "text/html": [
       "4790.60348462123"
      ],
      "text/latex": [
       "4790.60348462123"
      ],
      "text/markdown": [
       "4790.60348462123"
      ],
      "text/plain": [
       "[1] 4790.603"
      ]
     },
     "metadata": {},
     "output_type": "display_data"
    }
   ],
   "source": [
    "AIC(forward)\n",
    "AIC(backward)\n",
    "AIC(both)"
   ]
  },
  {
   "cell_type": "markdown",
   "id": "b3d01154-50e6-4943-9e6b-399653ad78b7",
   "metadata": {},
   "source": [
    "#### <span style=\"color:green\"> As with the previous results, both directions (backward, both) resulted in low AICs. As a result, both suggest the optimal variables for the model.  </span>"
   ]
  }
 ],
 "metadata": {
  "kernelspec": {
   "display_name": "R",
   "language": "R",
   "name": "ir"
  },
  "language_info": {
   "codemirror_mode": "r",
   "file_extension": ".r",
   "mimetype": "text/x-r-source",
   "name": "R",
   "pygments_lexer": "r",
   "version": "4.3.2"
  }
 },
 "nbformat": 4,
 "nbformat_minor": 5
}
